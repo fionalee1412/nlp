{
  "cells": [
    {
      "cell_type": "markdown",
      "metadata": {
        "collapsed": true,
        "pycharm": {
          "name": "#%% md\n"
        }
      },
      "source": "## 读取数据"
    },
    {
      "cell_type": "code",
      "execution_count": null,
      "outputs": [
        {
          "name": "stderr",
          "text": [
            "Downloading 20news dataset. This may take a few minutes.\n",
            "Downloading dataset from https://ndownloader.figshare.com/files/5975967 (14 MB)\n"
          ],
          "output_type": "stream"
        }
      ],
      "source": "from sklearn.datasets import fetch_20newsgroups\nimport numpy as np\nimport pandas as pd\n\n#初次使用这个数据集的时候，会在实例化的时候开始下载\ndata \u003d fetch_20newsgroups()\n\ncategories \u003d [\"sci.space\" #科学技术 - 太空\n,\"rec.sport.hockey\" #运动 - 曲棍球\n,\"talk.politics.guns\" #政治 - 枪支问题\n,\"talk.politics.mideast\"] #政治 - 中东问题\ntrain \u003d fetch_20newsgroups(subset\u003d\"train\",categories \u003d categories)\ntest \u003d fetch_20newsgroups(subset\u003d\"test\",categories \u003d categories)\n",
      "metadata": {
        "pycharm": {
          "metadata": false,
          "name": "#%%\n",
          "is_executing": true
        }
      }
    }
  ],
  "metadata": {
    "language_info": {
      "codemirror_mode": {
        "name": "ipython",
        "version": 2
      },
      "file_extension": ".py",
      "mimetype": "text/x-python",
      "name": "python",
      "nbconvert_exporter": "python",
      "pygments_lexer": "ipython2",
      "version": "2.7.6"
    },
    "kernelspec": {
      "name": "python3",
      "language": "python",
      "display_name": "Python 3"
    }
  },
  "nbformat": 4,
  "nbformat_minor": 0
}