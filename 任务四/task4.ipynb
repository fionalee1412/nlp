{
 "cells": [
  {
   "cell_type": "markdown",
   "metadata": {
    "collapsed": true
   },
   "source": [
    "# 1. TF-IDF原理。\n",
    "# 2. 文本矩阵化，使用词袋模型，以TF-IDF特征值为权重。（可以使用Python中TfidfTransformer库）\n",
    "# 3. 互信息的原理。\n",
    "# 4. 使用第二步生成的特征矩阵，利用互信息进行特征筛选。"
   ]
  },
  {
   "cell_type": "markdown",
   "metadata": {},
   "source": [
    "\n",
    "## TF-IDF（词频-逆文本频率）\n",
    "TF，既是词频，出现频率\n",
    "IDF，则是从另一个角度来说词的珍贵程度，既出现的多的词就对这个文本的本意的贡献就会是最低的，相反，出现的较少的词可能是较珍贵的词，定量表示时就有：  IDF(x)=log (N/N(x)) 其中N代表语料库中的文本总数，而N(x)代表语料库中包含词x的文本总数"
   ]
  },
  {
   "cell_type": "markdown",
   "metadata": {},
   "source": []
  }
 ],
 "metadata": {
  "kernelspec": {
   "display_name": "Python 2",
   "language": "python",
   "name": "python2"
  },
  "language_info": {
   "codemirror_mode": {
    "name": "ipython",
    "version": 2
   },
   "file_extension": ".py",
   "mimetype": "text/x-python",
   "name": "python",
   "nbconvert_exporter": "python",
   "pygments_lexer": "ipython2",
   "version": "2.7.6"
  }
 },
 "nbformat": 4,
 "nbformat_minor": 0
}
