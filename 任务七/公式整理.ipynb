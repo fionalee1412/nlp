{
  "cells": [
    {
      "cell_type": "markdown",
      "metadata": {
        "collapsed": true,
        "pycharm": {
          "name": "#%% md\n"
        }
      },
      "source": "二项分布\n\n二项分布是N重伯努利分布，即为X ~ B(n, p). 概率密度公式为：\n\n$P(K\u003dk)\u003d\\dbinom{n}{k}p^k(1-p)^n-k$\n\n多项分布\n\n$P(x_1,x_2,...,x_k;n,p_1,p_2,...,p_k)\u003d\\frac {n!}{x_1!...xk!} p_1^{x_1}...p_k^{x_k}$\n\nGamma 函数\n\n$\\Gamma(x)\u003d\\int_0^{\\infty}t^{x-1}e^{-t}dt$\n\n分部积分后，可以发现Gamma函数如有这样的性质：\n\n$\\Gamma(x+1)\u003dx\\Gamma(x)$\n\nGamma函数可以看成是阶乘在实数集上的延拓，具有如下性质：\n\n$\\Gamma(n)\u003d(n-1)!$\n\nBata 分布\n\n$f(x;\\alpha,\\beta)\u003d\\frac {1}{B(\\alpha,\\beta)}x^{\\alpha-1}(1-x)^{\\beta-1}$\n\n其中：\n\n$\\frac {1}{B(\\alpha,\\beta)}\u003d\\frac {\\Gamma(\\alpha+\\beta)}{\\Gamma(\\alpha)+\\Gamma(\\beta)}$\n\n- 共轭先验分布\n\n在贝叶斯概率理论中，如果后验概率P(θ|x)和先验概率p(θ)满足同样的分布律，那么，先验分布和后验分布被叫做共轭分布，同时，先验分布叫做似然函数的共轭先验分布\n\n$P(\\theta|x)\u003d\\frac {P(\\theta,x)}{P(x)}$\n\n- Dirichlet分布\n\n$f(x_1,x_2,...,x_k;\\alpha_1,\\alpha_2,...,\\alpha_k)\u003d\\frac {1}{B(\\alpha)}\\prod_{i\u003d1}^{k}x_i^{\\alpha^i-1}$\n\n其中：\n\n$B(\\alpha)\u003d\\frac {\\prod_{i\u003d1}^{k}\\Gamma(\\alpha^i)}{\\Gamma(\\sum_{i\u003d1}^{k})},\\sum_{i\u003d1}^{k}x_i\u003d1$\n\n根据Beta分布、二项分布、Dirichlet分布、多项式分布的公式，我们可以验证上一小节中的结论 -- Beta分布是二项式分布的共轭先验分布，而狄利克雷(Dirichlet)分布是多项式分布的共轭分布。\n无穷\n$\\infty$\n"
    }
  ],
  "metadata": {
    "language_info": {
      "codemirror_mode": {
        "name": "ipython",
        "version": 2
      },
      "file_extension": ".py",
      "mimetype": "text/x-python",
      "name": "python",
      "nbconvert_exporter": "python",
      "pygments_lexer": "ipython2",
      "version": "2.7.6"
    },
    "kernelspec": {
      "name": "python3",
      "language": "python",
      "display_name": "Python 3"
    }
  },
  "nbformat": 4,
  "nbformat_minor": 0
}